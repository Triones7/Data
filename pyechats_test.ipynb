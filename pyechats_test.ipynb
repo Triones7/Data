{
 "cells": [
  {
   "cell_type": "markdown",
   "metadata": {},
   "source": [
    "# Pyecharts 测试学习\n"
   ]
  },
  {
   "cell_type": "code",
   "execution_count": 1,
   "metadata": {},
   "outputs": [
    {
     "data": {
      "text/plain": [
       "'d:\\\\Seafiles\\\\吴嘉伟 2318\\\\我的资料库\\\\私人资料库\\\\个人文档\\\\大二上\\\\美赛\\\\Data\\\\render.html'"
      ]
     },
     "execution_count": 1,
     "metadata": {},
     "output_type": "execute_result"
    }
   ],
   "source": [
    "# 从pyecharts库中导入Bar类，用于创建柱状图\n",
    "from pyecharts.charts import Bar\n",
    "# 从pyecharts库中导入options模块，并将其重命名为opts，用于设置图表的各种选项\n",
    "from pyecharts import options as opts\n",
    "\n",
    "# 创建一个Bar实例，用于构建柱状图\n",
    "bar = Bar()\n",
    "\n",
    "# 设置x轴的数据，即商品的类别\n",
    "bar.add_xaxis([\"衬衫\", \"毛衣\", \"领带\", \"裤子\", \"风衣\", \"高跟鞋\", \"袜子\"])\n",
    "\n",
    "# 添加第一个系列数据，即商家A的销售数据\n",
    "bar.add_yaxis(\"商家A\", [114, 55, 27, 101, 125, 27, 105])\n",
    "\n",
    "# 添加第二个系列数据，即商家B的销售数据\n",
    "bar.add_yaxis(\"商家B\", [57, 134, 137, 129, 145, 60, 49])\n",
    "\n",
    "# 设置全局选项，包括图表的标题\n",
    "bar.set_global_opts(title_opts=opts.TitleOpts(title=\"某商场销售情况\"))\n",
    "\n",
    "# 渲染图表并生成HTML文件，默认文件名为render.html\n",
    "bar.render()"
   ]
  }
 ],
 "metadata": {
  "kernelspec": {
   "display_name": "MCM",
   "language": "python",
   "name": "python3"
  },
  "language_info": {
   "codemirror_mode": {
    "name": "ipython",
    "version": 3
   },
   "file_extension": ".py",
   "mimetype": "text/x-python",
   "name": "python",
   "nbconvert_exporter": "python",
   "pygments_lexer": "ipython3",
   "version": "3.12.8"
  }
 },
 "nbformat": 4,
 "nbformat_minor": 2
}
