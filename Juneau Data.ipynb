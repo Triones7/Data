{
 "cells": [
  {
   "cell_type": "markdown",
   "metadata": {},
   "source": [
    "## Juneau 游客数量与冰川面积变化绘图"
   ]
  },
  {
   "cell_type": "code",
   "execution_count": null,
   "metadata": {},
   "outputs": [],
   "source": [
    "import numpy as np\n",
    "import pandas as pd\n",
    "import matplotlib.pyplot as plt\n",
    "from scipy import stats\n",
    "\n",
    "# 从Excel文件读取数据\n",
    "# 假设Excel文件名为 'data.xlsx'，且数据位于第一个工作表中\n",
    "# 假设 Excel 文件有两列，分别为 'X' 和 'Y'。\n",
    "data = pd.read_excel('Hidden_Cost.xlsx')\n",
    "\n",
    "# 从数据中提取X和Y列\n",
    "x = data['visitors'].values\n",
    "y = data['glaciers'].values\n",
    "\n",
    "# 进行多项式拟合（例如：2次多项式）\n",
    "degree = 2\n",
    "coefficients = np.polyfit(x, y, degree)\n",
    "poly = np.poly1d(coefficients)\n",
    "\n",
    "# 生成拟合曲线数据\n",
    "x_fit = np.linspace(min(x), max(x), 100)\n",
    "y_fit = poly(x_fit)\n",
    "\n",
    "# 计算残差\n",
    "y_residual = y - poly(x)\n",
    "\n",
    "# 计算标准误差（假设正态分布）\n",
    "stderr = np.std(y_residual) / np.sqrt(len(x))\n",
    "\n",
    "# 计算置信区间（95%置信度）\n",
    "conf_interval = stderr * stats.t.ppf(0.975, len(x)-1)\n",
    "\n",
    "# 绘制散点图\n",
    "plt.scatter(x, y, label='Data', color='blue')\n",
    "\n",
    "# 绘制拟合曲线\n",
    "plt.plot(x_fit, y_fit, label=f'{degree}-degree Polynomial Fit', color='red')\n",
    "\n",
    "# 绘制置信区间\n",
    "plt.fill_between(x_fit, y_fit - conf_interval, y_fit + conf_interval, color='gray', alpha=0.2, label='95% Confidence Interval')\n",
    "\n",
    "# 添加标签和标题\n",
    "plt.xlabel('X')\n",
    "plt.ylabel('Y')\n",
    "plt.title('Scatter Plot with Polynomial Fit and Confidence Interval')\n",
    "\n",
    "# 显示图例\n",
    "plt.legend()\n",
    "\n",
    "# 显示图表\n",
    "plt.show()"
   ]
  }
 ],
 "metadata": {
  "kernelspec": {
   "display_name": "MCM",
   "language": "python",
   "name": "python3"
  },
  "language_info": {
   "name": "python",
   "version": "3.12.8"
  }
 },
 "nbformat": 4,
 "nbformat_minor": 2
}
